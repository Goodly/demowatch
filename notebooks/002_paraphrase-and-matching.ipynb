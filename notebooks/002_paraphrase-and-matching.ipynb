{
 "cells": [
  {
   "cell_type": "code",
   "execution_count": 3,
   "metadata": {},
   "outputs": [
    {
     "name": "stdout",
     "output_type": "stream",
     "text": [
      "Collecting selenium\n",
      "  Downloading https://files.pythonhosted.org/packages/57/bc/17164fd471ccdf0df3a992c710c0c3c47743462ff41ab72a02c6ede96e90/selenium-3.12.0-py2.py3-none-any.whl (946kB)\n",
      "\u001b[K    100% |████████████████████████████████| 952kB 825kB/s eta 0:00:01\n",
      "\u001b[?25hInstalling collected packages: selenium\n",
      "Successfully installed selenium-3.12.0\n"
     ]
    }
   ],
   "source": [
    "!pip install -U selenium"
   ]
  },
  {
   "cell_type": "code",
   "execution_count": 1,
   "metadata": {},
   "outputs": [],
   "source": [
    "from datascience import *\n",
    "import matplotlib.pyplot as plt\n",
    "import numpy as np\n",
    "import pandas as pd\n",
    "%matplotlib inline\n",
    "plt.style.use('ggplot')"
   ]
  },
  {
   "cell_type": "markdown",
   "metadata": {},
   "source": [
    "# Paraphrasing and matching attempts"
   ]
  },
  {
   "cell_type": "code",
   "execution_count": 3,
   "metadata": {},
   "outputs": [
    {
     "data": {
      "text/html": [
       "<table border=\"1\" class=\"dataframe\">\n",
       "    <thead>\n",
       "        <tr>\n",
       "            <th>city</th> <th>date</th> <th>id</th> <th>text</th>\n",
       "        </tr>\n",
       "    </thead>\n",
       "    <tbody>\n",
       "        <tr>\n",
       "            <td>Charleston</td> <td>2011-11-23</td> <td>19  </td> <td>Occupy demonstrators to be released on bond\n",
       "Posted: Nov  ...</td>\n",
       "        </tr>\n",
       "    </tbody>\n",
       "        <tr>\n",
       "            <td>Seattle   </td> <td>2011-10-29</td> <td>193 </td> <td>by NATASHA RYAN / KING 5 News\n",
       "Bio | Email \n",
       "Posted on Oct ...</td>\n",
       "        </tr>\n",
       "    </tbody>\n",
       "        <tr>\n",
       "            <td>Bethlehem </td> <td>2011-12-08</td> <td>2   </td> <td>3 of 4 DOCUMENTS\n",
       "The Associated Press State & Local Wire ...</td>\n",
       "        </tr>\n",
       "    </tbody>\n",
       "        <tr>\n",
       "            <td>Cleveland </td> <td>nan       </td> <td>28  </td> <td>6 protesters form Occupy Cleveland\n",
       "by DAVID DAVIS, Manag ...</td>\n",
       "        </tr>\n",
       "    </tbody>\n",
       "        <tr>\n",
       "            <td>Baltimore </td> <td>2011-12-05</td> <td>220 </td> <td>Woman stabbed at Occupy Baltimore encampment, police say ...</td>\n",
       "        </tr>\n",
       "    </tbody>\n",
       "        <tr>\n",
       "            <td>Albany    </td> <td>2011-12-23</td> <td>34  </td> <td>Dismay, hard feelings after confrontation\n",
       "City leaders d ...</td>\n",
       "        </tr>\n",
       "    </tbody>\n",
       "        <tr>\n",
       "            <td>Denver    </td> <td>2011-12-12</td> <td>43  </td> <td>134 of 156 DOCUMENTS\n",
       "The Associated Press State & Local  ...</td>\n",
       "        </tr>\n",
       "    </tbody>\n",
       "        <tr>\n",
       "            <td>Huntington</td> <td>2011-12-01</td> <td>65  </td> <td>3 of 6 DOCUMENTS\n",
       "The Associated Press State & Local Wire ...</td>\n",
       "        </tr>\n",
       "    </tbody>\n",
       "        <tr>\n",
       "            <td>Lubbock   </td> <td>2011-11-15</td> <td>97  </td> <td>KBCD: http://www.kcbd.com/\n",
       "Mayor says Occupy Lubbock pro ...</td>\n",
       "        </tr>\n",
       "    </tbody>\n",
       "        <tr>\n",
       "            <td>LosAngeles</td> <td>2011-12-03</td> <td>84  </td> <td>Occupy L.A. protesters return to downtown streets\n",
       "Decemb ...</td>\n",
       "        </tr>\n",
       "    </tbody>\n",
       "</table>\n",
       "<p>... (154 rows omitted)</p>"
      ],
      "text/plain": [
       "city       | date       | id   | text\n",
       "Charleston | 2011-11-23 | 19   | Occupy demonstrators to be released on bond\n",
       "Posted: Nov  ...\n",
       "Seattle    | 2011-10-29 | 193  | by NATASHA RYAN / KING 5 News\n",
       "Bio | Email \n",
       "Posted on Oct ...\n",
       "Bethlehem  | 2011-12-08 | 2    | 3 of 4 DOCUMENTS\n",
       "The Associated Press State & Local Wire ...\n",
       "Cleveland  | nan        | 28   | 6 protesters form Occupy Cleveland\n",
       "by DAVID DAVIS, Manag ...\n",
       "Baltimore  | 2011-12-05 | 220  | Woman stabbed at Occupy Baltimore encampment, police say ...\n",
       "Albany     | 2011-12-23 | 34   | Dismay, hard feelings after confrontation\n",
       "City leaders d ...\n",
       "Denver     | 2011-12-12 | 43   | 134 of 156 DOCUMENTS\n",
       "The Associated Press State & Local  ...\n",
       "Huntington | 2011-12-01 | 65   | 3 of 6 DOCUMENTS\n",
       "The Associated Press State & Local Wire ...\n",
       "Lubbock    | 2011-11-15 | 97   | KBCD: http://www.kcbd.com/\n",
       "Mayor says Occupy Lubbock pro ...\n",
       "LosAngeles | 2011-12-03 | 84   | Occupy L.A. protesters return to downtown streets\n",
       "Decemb ...\n",
       "... (154 rows omitted)"
      ]
     },
     "execution_count": 3,
     "metadata": {},
     "output_type": "execute_result"
    }
   ],
   "source": [
    "reading_set = Table().read_table('reading_set.csv')\n",
    "reading_set"
   ]
  },
  {
   "cell_type": "code",
   "execution_count": 6,
   "metadata": {},
   "outputs": [
    {
     "data": {
      "text/plain": [
       "\"Occupy demonstrators to be released on bond Posted: Nov 22, 2011 11:27 PM PST Updated: Nov 23, 2011 11:13 AM PST By Live 5 News Web Staff - email   CHARLESTON, SC (WCSC) - Nine protesters who were arrested following an Occupy Charleston demonstration Tuesday night are set to be released on Wednesday on a personal recognizance bond. Another protester who was arrested at the demonstration is being held due to two active bench warrants. A judge also gave a condition in the protesters' bond that states that they cannot go back to protest at Marion Square until the case is resolved.   Charleston City Police arrested 10 people just after midnight Wednesday at Marion Square in downtown Charleston. About 30 protesters of the Occupy Charleston movement stood their ground at Marion Square, voicing their concerns with corporate America and the American economy. About 40 to 50 police officers watched on. Justin Robert Honea was charged with prohibited activity in a public park. Nine other people were arrested on trespassing charges. Their names are below. Protesters were told by Mayor Joe Riley on Monday that they were not allowed to occupy Marion Square after the park closed at 11 p.m. Riley told the protesters they could stay in the park for seven days and only during daylight hours, but the protesters weren't happy. Occupiers took to the streets Tuesday night in a last-ditch effort, to raise awareness about social and economic inequality, turning a peaceful park into a restless one. According to a spokesperson for the City of Charleston, protesters for Occupy Charleston addressed the city council Tuesday during a 30-minute open forum to the public. Supposedly, nothing came out of that meeting. The occupy movement has cost local taxpayers nationwide at least $13 million since the protests began, according to an associated press survey. The survey looked at data from government agencies in 18 cities with active protests through Nov. 15. Most of the costs come from law enforcement needing to monitor marches and evict protesters. Copyright WCSC 2011. All rights reserved.\""
      ]
     },
     "execution_count": 6,
     "metadata": {},
     "output_type": "execute_result"
    }
   ],
   "source": [
    "reading_set.column('text').item(0).replace('\\n', ' ')"
   ]
  },
  {
   "cell_type": "code",
   "execution_count": null,
   "metadata": {},
   "outputs": [],
   "source": []
  }
 ],
 "metadata": {
  "kernelspec": {
   "display_name": "Python 3",
   "language": "python",
   "name": "python3"
  },
  "language_info": {
   "codemirror_mode": {
    "name": "ipython",
    "version": 3
   },
   "file_extension": ".py",
   "mimetype": "text/x-python",
   "name": "python",
   "nbconvert_exporter": "python",
   "pygments_lexer": "ipython3",
   "version": "3.6.1"
  }
 },
 "nbformat": 4,
 "nbformat_minor": 2
}
