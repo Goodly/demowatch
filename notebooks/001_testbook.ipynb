{
 "cells": [
  {
   "cell_type": "code",
   "execution_count": 2,
   "metadata": {},
   "outputs": [
    {
     "name": "stdout",
     "output_type": "stream",
     "text": [
      "Collecting sklearn-pandas\n",
      "  Using cached https://files.pythonhosted.org/packages/c5/9e/42d7bcddb09a3ff52d0c60c810ba5d0fded28abbe320c85bbf7368192956/sklearn_pandas-1.6.0-py2.py3-none-any.whl\n",
      "Requirement already satisfied: scipy>=0.14 in /srv/app/venv/lib/python3.6/site-packages (from sklearn-pandas)\n",
      "Requirement already satisfied: numpy>=1.6.1 in /srv/app/venv/lib/python3.6/site-packages (from sklearn-pandas)\n",
      "Requirement already satisfied: pandas>=0.11.0 in /srv/app/venv/lib/python3.6/site-packages (from sklearn-pandas)\n",
      "Requirement already satisfied: scikit-learn>=0.15.0 in /srv/app/venv/lib/python3.6/site-packages (from sklearn-pandas)\n",
      "Requirement already satisfied: python-dateutil>=2 in /srv/app/venv/lib/python3.6/site-packages (from pandas>=0.11.0->sklearn-pandas)\n",
      "Requirement already satisfied: pytz>=2011k in /srv/app/venv/lib/python3.6/site-packages (from pandas>=0.11.0->sklearn-pandas)\n",
      "Requirement already satisfied: six>=1.5 in /srv/app/venv/lib/python3.6/site-packages (from python-dateutil>=2->pandas>=0.11.0->sklearn-pandas)\n",
      "Installing collected packages: sklearn-pandas\n",
      "Successfully installed sklearn-pandas-1.6.0\n"
     ]
    }
   ],
   "source": [
    "!pip install sklearn-pandas"
   ]
  },
  {
   "cell_type": "code",
   "execution_count": 3,
   "metadata": {},
   "outputs": [],
   "source": [
    "from datascience import *\n",
    "import matplotlib.pyplot as plt\n",
    "import numpy as np\n",
    "import pandas as pd\n",
    "%matplotlib inline\n",
    "plt.style.use('ggplot')\n",
    "\n",
    "# import various tools from `sklearn`\n",
    "from sklearn.pipeline import Pipeline\n",
    "from sklearn.ensemble import RandomForestClassifier\n",
    "import sklearn.cluster as skcluster\n",
    "from sklearn.preprocessing import LabelEncoder, LabelBinarizer\n",
    "\n",
    "from sklearn_pandas import DataFrameMapper\n",
    "from collections import Counter"
   ]
  },
  {
   "cell_type": "markdown",
   "metadata": {},
   "source": [
    "# Initial forays into the canonicalization problem"
   ]
  },
  {
   "cell_type": "markdown",
   "metadata": {},
   "source": [
    "As with any problem where you start off having no idea what to do, exploratory data analysis is required."
   ]
  },
  {
   "cell_type": "code",
   "execution_count": 9,
   "metadata": {},
   "outputs": [
    {
     "data": {
      "text/plain": [
       "'by NATASHA RYAN / KING 5 News\\nBio | Email \\nPosted on October 29, 2011 at 3:40 PM\\nUpdated Saturday, Oct 29 at 5:28 PM\\n\\n\\nOccupy Seattle allowed to set up camp at Seattle Central CC\\nJudge backs SCCC\\'s move to evict Occupy Seattle camp\\nSEATTLE -- Seattle Central Community College originally said Occupy Seattle wasn\\'t welcome to occupy the campus. It has since had a change of heart after realizing state laws don\\'t allow the college to prevent the movement\\'s presence.\\nThe group planned to march from Westlake to SCCC, where they set up camp. This doesn\\'t mean protesters won\\'t still be at Westlake.\\n \"This (Westlake) is the epicenter, this is as close to our Wall Street as we\\'ve got,\" said Bob Barnes.\\nEssentially, protesters will treat Westlake like their living room and the college as their bedroom, a place to rest.\\nTeachers joined the movement on Saturday, protesting outside of Chase Bank.\\nTeacher David Ehrich said with the Governor\\'s mention of more cuts on the way, he has to speak his mind.\\n\"We\\'re cutting classes and classes and classes and the idea that we\\'re going to cut more speaks to the fact that unless we change the revenue stream somewhere here in Washington, where we\\'re taxing, we\\'re never going to catch up,\" he said.\\nProtestors were readying for an 8 o\\'clock event at the college.'"
      ]
     },
     "execution_count": 9,
     "metadata": {},
     "output_type": "execute_result"
    }
   ],
   "source": [
    "dat = pd.read_json('../data/test_data.json')\n",
    "dat['text']"
   ]
  },
  {
   "cell_type": "code",
   "execution_count": 10,
   "metadata": {},
   "outputs": [
    {
     "data": {
      "text/plain": [
       "Counter({'Albany': 6,\n",
       "         'Allentown City': 1,\n",
       "         'Anchorage': 1,\n",
       "         'Atlanta': 5,\n",
       "         'Austin': 2,\n",
       "         'Baltimore': 2,\n",
       "         'Bangor': 1,\n",
       "         'Baton Rouge': 1,\n",
       "         'Bethlehem': 1,\n",
       "         'Bloomington': 1,\n",
       "         'Boston': 5,\n",
       "         'Chapel Hill-Carrboro': 2,\n",
       "         'Charleston': 5,\n",
       "         'Charlotte': 1,\n",
       "         'Chicago': 1,\n",
       "         'Cincinnati': 2,\n",
       "         'Cleveland': 1,\n",
       "         'Columbia': 2,\n",
       "         'Dallas': 4,\n",
       "         'Denver': 4,\n",
       "         'Des Moines': 2,\n",
       "         'Detroit': 1,\n",
       "         'Duluth': 1,\n",
       "         'Eureka': 1,\n",
       "         'Flint': 1,\n",
       "         'Fort Wayne': 1,\n",
       "         'Frederick': 1,\n",
       "         'Gainesville': 1,\n",
       "         'Hartford': 1,\n",
       "         'Houston': 1,\n",
       "         'Huntington': 2,\n",
       "         'Iowa City': 1,\n",
       "         'Jackson': 1,\n",
       "         'Lexington-Fayette': 1,\n",
       "         'Little Rock': 1,\n",
       "         'LongBeach': 3,\n",
       "         'LosAngeles': 10,\n",
       "         'Louisville': 1,\n",
       "         'Lubbock': 1,\n",
       "         'Memphis': 1,\n",
       "         'Miami': 2,\n",
       "         'Milwaukee': 2,\n",
       "         'Minneapolis': 5,\n",
       "         'Missoula': 1,\n",
       "         'Nashville': 4,\n",
       "         'NewYork': 5,\n",
       "         'Norfolk': 1,\n",
       "         'Oakland': 12,\n",
       "         'Orlando': 1,\n",
       "         'Philadelphia': 4,\n",
       "         'Phoenix': 1,\n",
       "         'Portland': 5,\n",
       "         'Providence': 1,\n",
       "         'Richmond': 3,\n",
       "         'Sacramento': 1,\n",
       "         'SanDiego': 5,\n",
       "         'SanFrancisco': 8,\n",
       "         'SanJose': 2,\n",
       "         'Santa Cruz': 3,\n",
       "         'Seattle': 5,\n",
       "         'Sebastopol': 2,\n",
       "         'Tacoma': 1,\n",
       "         'Tampa': 1,\n",
       "         'Trenton': 1,\n",
       "         'Tulsa': 3,\n",
       "         'WashingtonDC': 2,\n",
       "         'Youngstown': 2})"
      ]
     },
     "execution_count": 10,
     "metadata": {},
     "output_type": "execute_result"
    }
   ],
   "source": [
    "metadata = pd.DataFrame(list(dat['metadata']))\n",
    "Counter(metadata['city'])"
   ]
  },
  {
   "cell_type": "code",
   "execution_count": null,
   "metadata": {},
   "outputs": [],
   "source": []
  }
 ],
 "metadata": {
  "kernelspec": {
   "display_name": "Python 3",
   "language": "python",
   "name": "python3"
  },
  "language_info": {
   "codemirror_mode": {
    "name": "ipython",
    "version": 3
   },
   "file_extension": ".py",
   "mimetype": "text/x-python",
   "name": "python",
   "nbconvert_exporter": "python",
   "pygments_lexer": "ipython3",
   "version": "3.6.1"
  }
 },
 "nbformat": 4,
 "nbformat_minor": 2
}
