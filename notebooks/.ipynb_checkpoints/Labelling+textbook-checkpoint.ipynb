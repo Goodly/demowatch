{
 "cells": [
  {
   "cell_type": "code",
   "execution_count": 1,
   "metadata": {},
   "outputs": [
    {
     "name": "stdout",
     "output_type": "stream",
     "text": [
      "Requirement already satisfied: sklearn-pandas in /srv/app/venv/lib/python3.6/site-packages\n",
      "Requirement already satisfied: scikit-learn>=0.15.0 in /srv/app/venv/lib/python3.6/site-packages (from sklearn-pandas)\n",
      "Requirement already satisfied: scipy>=0.14 in /srv/app/venv/lib/python3.6/site-packages (from sklearn-pandas)\n",
      "Requirement already satisfied: pandas>=0.11.0 in /srv/app/venv/lib/python3.6/site-packages (from sklearn-pandas)\n",
      "Requirement already satisfied: numpy>=1.6.1 in /srv/app/venv/lib/python3.6/site-packages (from sklearn-pandas)\n",
      "Requirement already satisfied: pytz>=2011k in /srv/app/venv/lib/python3.6/site-packages (from pandas>=0.11.0->sklearn-pandas)\n",
      "Requirement already satisfied: python-dateutil>=2 in /srv/app/venv/lib/python3.6/site-packages (from pandas>=0.11.0->sklearn-pandas)\n",
      "Requirement already satisfied: six>=1.5 in /srv/app/venv/lib/python3.6/site-packages (from python-dateutil>=2->pandas>=0.11.0->sklearn-pandas)\n"
     ]
    }
   ],
   "source": [
    "!pip install sklearn-pandas"
   ]
  },
  {
   "cell_type": "code",
   "execution_count": 2,
   "metadata": {},
   "outputs": [],
   "source": [
    "from datascience import *\n",
    "import matplotlib.pyplot as plt\n",
    "import numpy as np\n",
    "import pandas as pd\n",
    "%matplotlib inline\n",
    "plt.style.use('ggplot')\n",
    "\n",
    "# import various tools from `sklearn`\n",
    "from sklearn.pipeline import Pipeline\n",
    "from sklearn.ensemble import RandomForestClassifier\n",
    "import sklearn.cluster as skcluster\n",
    "from sklearn.preprocessing import LabelEncoder, LabelBinarizer\n",
    "\n",
    "from sklearn_pandas import DataFrameMapper\n",
    "from collections import Counter"
   ]
  },
  {
   "cell_type": "markdown",
   "metadata": {},
   "source": [
    "# Labelling events!"
   ]
  },
  {
   "cell_type": "markdown",
   "metadata": {},
   "source": [
    "This notebook will be for all of us to **label** our training events. The process will look something like:\n",
    "\n",
    "1. Produce each individual city's set of articles/TUAs\n",
    "\n",
    "2. Read each article/TUA and label its event ID\n",
    "\n",
    "3. Write it down\n",
    "\n",
    "4. Produce a file that contains the event IDs"
   ]
  },
  {
   "cell_type": "code",
   "execution_count": 3,
   "metadata": {},
   "outputs": [
    {
     "data": {
      "text/html": [
       "<table border=\"1\" class=\"dataframe\">\n",
       "    <thead>\n",
       "        <tr>\n",
       "            <th>city</th> <th>date</th> <th>id</th> <th>text</th>\n",
       "        </tr>\n",
       "    </thead>\n",
       "    <tbody>\n",
       "        <tr>\n",
       "            <td>Charleston</td> <td>2011-11-23</td> <td>19  </td> <td>Occupy demonstrators to be released on bond\n",
       "Posted: Nov  ...</td>\n",
       "        </tr>\n",
       "    </tbody>\n",
       "        <tr>\n",
       "            <td>Seattle   </td> <td>2011-10-29</td> <td>193 </td> <td>by NATASHA RYAN / KING 5 News\n",
       "Bio | Email \n",
       "Posted on Oct ...</td>\n",
       "        </tr>\n",
       "    </tbody>\n",
       "        <tr>\n",
       "            <td>Bethlehem </td> <td>2011-12-08</td> <td>2   </td> <td>3 of 4 DOCUMENTS\n",
       "The Associated Press State & Local Wire ...</td>\n",
       "        </tr>\n",
       "    </tbody>\n",
       "        <tr>\n",
       "            <td>Cleveland </td> <td>nan       </td> <td>28  </td> <td>6 protesters form Occupy Cleveland\n",
       "by DAVID DAVIS, Manag ...</td>\n",
       "        </tr>\n",
       "    </tbody>\n",
       "        <tr>\n",
       "            <td>Baltimore </td> <td>2011-12-05</td> <td>220 </td> <td>Woman stabbed at Occupy Baltimore encampment, police say ...</td>\n",
       "        </tr>\n",
       "    </tbody>\n",
       "        <tr>\n",
       "            <td>Albany    </td> <td>2011-12-23</td> <td>34  </td> <td>Dismay, hard feelings after confrontation\n",
       "City leaders d ...</td>\n",
       "        </tr>\n",
       "    </tbody>\n",
       "        <tr>\n",
       "            <td>Denver    </td> <td>2011-12-12</td> <td>43  </td> <td>134 of 156 DOCUMENTS\n",
       "The Associated Press State & Local  ...</td>\n",
       "        </tr>\n",
       "    </tbody>\n",
       "        <tr>\n",
       "            <td>Huntington</td> <td>2011-12-01</td> <td>65  </td> <td>3 of 6 DOCUMENTS\n",
       "The Associated Press State & Local Wire ...</td>\n",
       "        </tr>\n",
       "    </tbody>\n",
       "        <tr>\n",
       "            <td>Lubbock   </td> <td>2011-11-15</td> <td>97  </td> <td>KBCD: http://www.kcbd.com/\n",
       "Mayor says Occupy Lubbock pro ...</td>\n",
       "        </tr>\n",
       "    </tbody>\n",
       "        <tr>\n",
       "            <td>LosAngeles</td> <td>2011-12-03</td> <td>84  </td> <td>Occupy L.A. protesters return to downtown streets\n",
       "Decemb ...</td>\n",
       "        </tr>\n",
       "    </tbody>\n",
       "</table>\n",
       "<p>... (154 rows omitted)</p>"
      ],
      "text/plain": [
       "city       | date       | id   | text\n",
       "Charleston | 2011-11-23 | 19   | Occupy demonstrators to be released on bond\n",
       "Posted: Nov  ...\n",
       "Seattle    | 2011-10-29 | 193  | by NATASHA RYAN / KING 5 News\n",
       "Bio | Email \n",
       "Posted on Oct ...\n",
       "Bethlehem  | 2011-12-08 | 2    | 3 of 4 DOCUMENTS\n",
       "The Associated Press State & Local Wire ...\n",
       "Cleveland  | nan        | 28   | 6 protesters form Occupy Cleveland\n",
       "by DAVID DAVIS, Manag ...\n",
       "Baltimore  | 2011-12-05 | 220  | Woman stabbed at Occupy Baltimore encampment, police say ...\n",
       "Albany     | 2011-12-23 | 34   | Dismay, hard feelings after confrontation\n",
       "City leaders d ...\n",
       "Denver     | 2011-12-12 | 43   | 134 of 156 DOCUMENTS\n",
       "The Associated Press State & Local  ...\n",
       "Huntington | 2011-12-01 | 65   | 3 of 6 DOCUMENTS\n",
       "The Associated Press State & Local Wire ...\n",
       "Lubbock    | 2011-11-15 | 97   | KBCD: http://www.kcbd.com/\n",
       "Mayor says Occupy Lubbock pro ...\n",
       "LosAngeles | 2011-12-03 | 84   | Occupy L.A. protesters return to downtown streets\n",
       "Decemb ...\n",
       "... (154 rows omitted)"
      ]
     },
     "execution_count": 3,
     "metadata": {},
     "output_type": "execute_result"
    }
   ],
   "source": [
    "reading_set = Table().read_table('reading_set.csv')\n",
    "reading_set"
   ]
  },
  {
   "cell_type": "markdown",
   "metadata": {},
   "source": [
    "Enter the city name you're working on below:"
   ]
  },
  {
   "cell_type": "code",
   "execution_count": 5,
   "metadata": {},
   "outputs": [],
   "source": [
    "city_name = 'Atlanta'"
   ]
  },
  {
   "cell_type": "markdown",
   "metadata": {},
   "source": [
    "This code will display the text of the **first** article for that city."
   ]
  },
  {
   "cell_type": "code",
   "execution_count": 6,
   "metadata": {},
   "outputs": [
    {
     "data": {
      "text/plain": [
       "'Posted: 5:51 p.m. Monday, Oct. 17, 2011\\nReed extends order allowing Occupy Atlanta protestors\\nBy Richard Elliot\\nATLANTA — \\n\\n\\nAtlanta Mayor Kasim Reed has extended his executive order allowing Occupy Atlanta protestors to remain in Woodruff Park through early November. Reed\\'s earlier order would have expired at 11 p.m. Monday meaning protestors would have had to dismantle their tents immediately and vacate the grounds once the park closed.\\nIn a statement Reed said, \" Civil disobedience is an appropriate form of expression, provided that it is peaceful, non-violent and lawful.  As of today, the Occupy Atlanta protesters continue to assemble in a peaceful, non-violent fashion in Robert W. Woodruff Park. Therefore, I have extended the Executive Order allowing Occupy Atlanta to remain in Woodruff Park after the park closes.  This Executive Order is effective through the adjournment of the next Atlanta City Council meeting on November 7, 2011.\"\\n Earlier in the day, about 40 Occupy Atlanta protestors marched down Peachtree Street for a rally in support of struggling downtown businesses.\\n At that rally, Channel 2\\'s Richard Elliot asked the protest leaders what would happen if that executive order expired.\\n \"We are ready to get arrested,\" said Occupy Atlanta\\'s Tim Franzen.  \"We never asked for permission to occupy the park.  It\\'s an illegal occupation, and we\\'re not moving.\"\\n The Atlanta City Council met Monday but did not take up the occupation issue, its unclear what will happen in November.  Councilman Ivory Young Jr., who supports the national Occupy movement, chastised local protestors for what he sees as a lack of direction.\\n \"We\\'re preoccupied with this whole notion of are we going to arrest or not,\" said Young.  \"How about the whole premise of Occupy (Atlanta)?  We sit here day after day and talk about will we or won\\'t we arrest.  How about the premise of some salient points that help to frame that agenda?\"\\nEven Occupy Atlanta protestors say they are demonstrating against a number of things, everything from economic inequities to corporate greed to the potential closing of the Pine Street homeless shelter to struggling downtown businesses.\\nReed added in his statement that the city will keep a watchful eye on the protestors.\\n\"The Executive Order does not preclude the city from responding at will to changing conditions in the park or to any public safety issues. The city is prepared to act swiftly should the situation in the park so warrant,\" the statement said.'"
      ]
     },
     "execution_count": 6,
     "metadata": {},
     "output_type": "execute_result"
    }
   ],
   "source": [
    "reading_set.where(\"city\", city_name).column(\"text\").item(0)"
   ]
  },
  {
   "cell_type": "markdown",
   "metadata": {},
   "source": [
    "Write down the event ID for that article, then increase the `item` number by 1 until you have no more articles. Once you have all the event IDs, enter them into this array below."
   ]
  },
  {
   "cell_type": "code",
   "execution_count": 9,
   "metadata": {},
   "outputs": [
    {
     "data": {
      "text/plain": [
       "'sdfs.sdfsd'"
      ]
     },
     "execution_count": 9,
     "metadata": {},
     "output_type": "execute_result"
    }
   ],
   "source": [
    "IDs = Table().with_column(\"ID\", make_array())"
   ]
  },
  {
   "cell_type": "code",
   "execution_count": null,
   "metadata": {},
   "outputs": [],
   "source": [
    "IDs.to_csv(city_name)"
   ]
  }
 ],
 "metadata": {
  "kernelspec": {
   "display_name": "Python 3",
   "language": "python",
   "name": "python3"
  },
  "language_info": {
   "codemirror_mode": {
    "name": "ipython",
    "version": 3
   },
   "file_extension": ".py",
   "mimetype": "text/x-python",
   "name": "python",
   "nbconvert_exporter": "python",
   "pygments_lexer": "ipython3",
   "version": "3.6.1"
  }
 },
 "nbformat": 4,
 "nbformat_minor": 2
}
